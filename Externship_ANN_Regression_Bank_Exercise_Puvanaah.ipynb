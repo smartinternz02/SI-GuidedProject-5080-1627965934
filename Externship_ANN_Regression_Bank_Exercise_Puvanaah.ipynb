{
 "cells": [
  {
   "cell_type": "code",
   "execution_count": 1,
   "metadata": {},
   "outputs": [],
   "source": [
    "#1. Importing libraries\n",
    "import numpy as np\n",
    "import pandas as pd"
   ]
  },
  {
   "cell_type": "code",
   "execution_count": 2,
   "metadata": {},
   "outputs": [],
   "source": [
    "#2. reading the dataset\n",
    "dataset = pd.read_csv(\"bank.csv\")"
   ]
  },
  {
   "cell_type": "code",
   "execution_count": 3,
   "metadata": {},
   "outputs": [
    {
     "data": {
      "text/html": [
       "<div>\n",
       "<style scoped>\n",
       "    .dataframe tbody tr th:only-of-type {\n",
       "        vertical-align: middle;\n",
       "    }\n",
       "\n",
       "    .dataframe tbody tr th {\n",
       "        vertical-align: top;\n",
       "    }\n",
       "\n",
       "    .dataframe thead th {\n",
       "        text-align: right;\n",
       "    }\n",
       "</style>\n",
       "<table border=\"1\" class=\"dataframe\">\n",
       "  <thead>\n",
       "    <tr style=\"text-align: right;\">\n",
       "      <th></th>\n",
       "      <th>age</th>\n",
       "      <th>job</th>\n",
       "      <th>marital</th>\n",
       "      <th>education</th>\n",
       "      <th>default</th>\n",
       "      <th>balance</th>\n",
       "      <th>housing</th>\n",
       "      <th>loan</th>\n",
       "      <th>contact</th>\n",
       "      <th>day</th>\n",
       "      <th>month</th>\n",
       "      <th>duration</th>\n",
       "      <th>campaign</th>\n",
       "      <th>pdays</th>\n",
       "      <th>previous</th>\n",
       "      <th>poutcome</th>\n",
       "      <th>deposit</th>\n",
       "    </tr>\n",
       "  </thead>\n",
       "  <tbody>\n",
       "    <tr>\n",
       "      <th>0</th>\n",
       "      <td>59</td>\n",
       "      <td>admin.</td>\n",
       "      <td>married</td>\n",
       "      <td>secondary</td>\n",
       "      <td>no</td>\n",
       "      <td>2343</td>\n",
       "      <td>yes</td>\n",
       "      <td>no</td>\n",
       "      <td>unknown</td>\n",
       "      <td>5</td>\n",
       "      <td>may</td>\n",
       "      <td>1042</td>\n",
       "      <td>1</td>\n",
       "      <td>-1</td>\n",
       "      <td>0</td>\n",
       "      <td>unknown</td>\n",
       "      <td>yes</td>\n",
       "    </tr>\n",
       "    <tr>\n",
       "      <th>1</th>\n",
       "      <td>56</td>\n",
       "      <td>admin.</td>\n",
       "      <td>married</td>\n",
       "      <td>secondary</td>\n",
       "      <td>no</td>\n",
       "      <td>45</td>\n",
       "      <td>no</td>\n",
       "      <td>no</td>\n",
       "      <td>unknown</td>\n",
       "      <td>5</td>\n",
       "      <td>may</td>\n",
       "      <td>1467</td>\n",
       "      <td>1</td>\n",
       "      <td>-1</td>\n",
       "      <td>0</td>\n",
       "      <td>unknown</td>\n",
       "      <td>yes</td>\n",
       "    </tr>\n",
       "    <tr>\n",
       "      <th>2</th>\n",
       "      <td>41</td>\n",
       "      <td>technician</td>\n",
       "      <td>married</td>\n",
       "      <td>secondary</td>\n",
       "      <td>no</td>\n",
       "      <td>1270</td>\n",
       "      <td>yes</td>\n",
       "      <td>no</td>\n",
       "      <td>unknown</td>\n",
       "      <td>5</td>\n",
       "      <td>may</td>\n",
       "      <td>1389</td>\n",
       "      <td>1</td>\n",
       "      <td>-1</td>\n",
       "      <td>0</td>\n",
       "      <td>unknown</td>\n",
       "      <td>yes</td>\n",
       "    </tr>\n",
       "    <tr>\n",
       "      <th>3</th>\n",
       "      <td>55</td>\n",
       "      <td>services</td>\n",
       "      <td>married</td>\n",
       "      <td>secondary</td>\n",
       "      <td>no</td>\n",
       "      <td>2476</td>\n",
       "      <td>yes</td>\n",
       "      <td>no</td>\n",
       "      <td>unknown</td>\n",
       "      <td>5</td>\n",
       "      <td>may</td>\n",
       "      <td>579</td>\n",
       "      <td>1</td>\n",
       "      <td>-1</td>\n",
       "      <td>0</td>\n",
       "      <td>unknown</td>\n",
       "      <td>yes</td>\n",
       "    </tr>\n",
       "    <tr>\n",
       "      <th>4</th>\n",
       "      <td>54</td>\n",
       "      <td>admin.</td>\n",
       "      <td>married</td>\n",
       "      <td>tertiary</td>\n",
       "      <td>no</td>\n",
       "      <td>184</td>\n",
       "      <td>no</td>\n",
       "      <td>no</td>\n",
       "      <td>unknown</td>\n",
       "      <td>5</td>\n",
       "      <td>may</td>\n",
       "      <td>673</td>\n",
       "      <td>2</td>\n",
       "      <td>-1</td>\n",
       "      <td>0</td>\n",
       "      <td>unknown</td>\n",
       "      <td>yes</td>\n",
       "    </tr>\n",
       "    <tr>\n",
       "      <th>...</th>\n",
       "      <td>...</td>\n",
       "      <td>...</td>\n",
       "      <td>...</td>\n",
       "      <td>...</td>\n",
       "      <td>...</td>\n",
       "      <td>...</td>\n",
       "      <td>...</td>\n",
       "      <td>...</td>\n",
       "      <td>...</td>\n",
       "      <td>...</td>\n",
       "      <td>...</td>\n",
       "      <td>...</td>\n",
       "      <td>...</td>\n",
       "      <td>...</td>\n",
       "      <td>...</td>\n",
       "      <td>...</td>\n",
       "      <td>...</td>\n",
       "    </tr>\n",
       "    <tr>\n",
       "      <th>11157</th>\n",
       "      <td>33</td>\n",
       "      <td>blue-collar</td>\n",
       "      <td>single</td>\n",
       "      <td>primary</td>\n",
       "      <td>no</td>\n",
       "      <td>1</td>\n",
       "      <td>yes</td>\n",
       "      <td>no</td>\n",
       "      <td>cellular</td>\n",
       "      <td>20</td>\n",
       "      <td>apr</td>\n",
       "      <td>257</td>\n",
       "      <td>1</td>\n",
       "      <td>-1</td>\n",
       "      <td>0</td>\n",
       "      <td>unknown</td>\n",
       "      <td>no</td>\n",
       "    </tr>\n",
       "    <tr>\n",
       "      <th>11158</th>\n",
       "      <td>39</td>\n",
       "      <td>services</td>\n",
       "      <td>married</td>\n",
       "      <td>secondary</td>\n",
       "      <td>no</td>\n",
       "      <td>733</td>\n",
       "      <td>no</td>\n",
       "      <td>no</td>\n",
       "      <td>unknown</td>\n",
       "      <td>16</td>\n",
       "      <td>jun</td>\n",
       "      <td>83</td>\n",
       "      <td>4</td>\n",
       "      <td>-1</td>\n",
       "      <td>0</td>\n",
       "      <td>unknown</td>\n",
       "      <td>no</td>\n",
       "    </tr>\n",
       "    <tr>\n",
       "      <th>11159</th>\n",
       "      <td>32</td>\n",
       "      <td>technician</td>\n",
       "      <td>single</td>\n",
       "      <td>secondary</td>\n",
       "      <td>no</td>\n",
       "      <td>29</td>\n",
       "      <td>no</td>\n",
       "      <td>no</td>\n",
       "      <td>cellular</td>\n",
       "      <td>19</td>\n",
       "      <td>aug</td>\n",
       "      <td>156</td>\n",
       "      <td>2</td>\n",
       "      <td>-1</td>\n",
       "      <td>0</td>\n",
       "      <td>unknown</td>\n",
       "      <td>no</td>\n",
       "    </tr>\n",
       "    <tr>\n",
       "      <th>11160</th>\n",
       "      <td>43</td>\n",
       "      <td>technician</td>\n",
       "      <td>married</td>\n",
       "      <td>secondary</td>\n",
       "      <td>no</td>\n",
       "      <td>0</td>\n",
       "      <td>no</td>\n",
       "      <td>yes</td>\n",
       "      <td>cellular</td>\n",
       "      <td>8</td>\n",
       "      <td>may</td>\n",
       "      <td>9</td>\n",
       "      <td>2</td>\n",
       "      <td>172</td>\n",
       "      <td>5</td>\n",
       "      <td>failure</td>\n",
       "      <td>no</td>\n",
       "    </tr>\n",
       "    <tr>\n",
       "      <th>11161</th>\n",
       "      <td>34</td>\n",
       "      <td>technician</td>\n",
       "      <td>married</td>\n",
       "      <td>secondary</td>\n",
       "      <td>no</td>\n",
       "      <td>0</td>\n",
       "      <td>no</td>\n",
       "      <td>no</td>\n",
       "      <td>cellular</td>\n",
       "      <td>9</td>\n",
       "      <td>jul</td>\n",
       "      <td>628</td>\n",
       "      <td>1</td>\n",
       "      <td>-1</td>\n",
       "      <td>0</td>\n",
       "      <td>unknown</td>\n",
       "      <td>no</td>\n",
       "    </tr>\n",
       "  </tbody>\n",
       "</table>\n",
       "<p>11162 rows × 17 columns</p>\n",
       "</div>"
      ],
      "text/plain": [
       "       age          job  marital  education default  balance housing loan  \\\n",
       "0       59       admin.  married  secondary      no     2343     yes   no   \n",
       "1       56       admin.  married  secondary      no       45      no   no   \n",
       "2       41   technician  married  secondary      no     1270     yes   no   \n",
       "3       55     services  married  secondary      no     2476     yes   no   \n",
       "4       54       admin.  married   tertiary      no      184      no   no   \n",
       "...    ...          ...      ...        ...     ...      ...     ...  ...   \n",
       "11157   33  blue-collar   single    primary      no        1     yes   no   \n",
       "11158   39     services  married  secondary      no      733      no   no   \n",
       "11159   32   technician   single  secondary      no       29      no   no   \n",
       "11160   43   technician  married  secondary      no        0      no  yes   \n",
       "11161   34   technician  married  secondary      no        0      no   no   \n",
       "\n",
       "        contact  day month  duration  campaign  pdays  previous poutcome  \\\n",
       "0       unknown    5   may      1042         1     -1         0  unknown   \n",
       "1       unknown    5   may      1467         1     -1         0  unknown   \n",
       "2       unknown    5   may      1389         1     -1         0  unknown   \n",
       "3       unknown    5   may       579         1     -1         0  unknown   \n",
       "4       unknown    5   may       673         2     -1         0  unknown   \n",
       "...         ...  ...   ...       ...       ...    ...       ...      ...   \n",
       "11157  cellular   20   apr       257         1     -1         0  unknown   \n",
       "11158   unknown   16   jun        83         4     -1         0  unknown   \n",
       "11159  cellular   19   aug       156         2     -1         0  unknown   \n",
       "11160  cellular    8   may         9         2    172         5  failure   \n",
       "11161  cellular    9   jul       628         1     -1         0  unknown   \n",
       "\n",
       "      deposit  \n",
       "0         yes  \n",
       "1         yes  \n",
       "2         yes  \n",
       "3         yes  \n",
       "4         yes  \n",
       "...       ...  \n",
       "11157      no  \n",
       "11158      no  \n",
       "11159      no  \n",
       "11160      no  \n",
       "11161      no  \n",
       "\n",
       "[11162 rows x 17 columns]"
      ]
     },
     "execution_count": 3,
     "metadata": {},
     "output_type": "execute_result"
    }
   ],
   "source": [
    "dataset"
   ]
  },
  {
   "cell_type": "code",
   "execution_count": 5,
   "metadata": {},
   "outputs": [
    {
     "data": {
      "text/html": [
       "<div>\n",
       "<style scoped>\n",
       "    .dataframe tbody tr th:only-of-type {\n",
       "        vertical-align: middle;\n",
       "    }\n",
       "\n",
       "    .dataframe tbody tr th {\n",
       "        vertical-align: top;\n",
       "    }\n",
       "\n",
       "    .dataframe thead th {\n",
       "        text-align: right;\n",
       "    }\n",
       "</style>\n",
       "<table border=\"1\" class=\"dataframe\">\n",
       "  <thead>\n",
       "    <tr style=\"text-align: right;\">\n",
       "      <th></th>\n",
       "      <th>age</th>\n",
       "      <th>balance</th>\n",
       "      <th>day</th>\n",
       "      <th>duration</th>\n",
       "      <th>campaign</th>\n",
       "      <th>pdays</th>\n",
       "      <th>previous</th>\n",
       "    </tr>\n",
       "  </thead>\n",
       "  <tbody>\n",
       "    <tr>\n",
       "      <th>count</th>\n",
       "      <td>11162.000000</td>\n",
       "      <td>11162.000000</td>\n",
       "      <td>11162.000000</td>\n",
       "      <td>11162.000000</td>\n",
       "      <td>11162.000000</td>\n",
       "      <td>11162.000000</td>\n",
       "      <td>11162.000000</td>\n",
       "    </tr>\n",
       "    <tr>\n",
       "      <th>mean</th>\n",
       "      <td>41.231948</td>\n",
       "      <td>1528.538524</td>\n",
       "      <td>15.658036</td>\n",
       "      <td>371.993818</td>\n",
       "      <td>2.508421</td>\n",
       "      <td>51.330407</td>\n",
       "      <td>0.832557</td>\n",
       "    </tr>\n",
       "    <tr>\n",
       "      <th>std</th>\n",
       "      <td>11.913369</td>\n",
       "      <td>3225.413326</td>\n",
       "      <td>8.420740</td>\n",
       "      <td>347.128386</td>\n",
       "      <td>2.722077</td>\n",
       "      <td>108.758282</td>\n",
       "      <td>2.292007</td>\n",
       "    </tr>\n",
       "    <tr>\n",
       "      <th>min</th>\n",
       "      <td>18.000000</td>\n",
       "      <td>-6847.000000</td>\n",
       "      <td>1.000000</td>\n",
       "      <td>2.000000</td>\n",
       "      <td>1.000000</td>\n",
       "      <td>-1.000000</td>\n",
       "      <td>0.000000</td>\n",
       "    </tr>\n",
       "    <tr>\n",
       "      <th>25%</th>\n",
       "      <td>32.000000</td>\n",
       "      <td>122.000000</td>\n",
       "      <td>8.000000</td>\n",
       "      <td>138.000000</td>\n",
       "      <td>1.000000</td>\n",
       "      <td>-1.000000</td>\n",
       "      <td>0.000000</td>\n",
       "    </tr>\n",
       "    <tr>\n",
       "      <th>50%</th>\n",
       "      <td>39.000000</td>\n",
       "      <td>550.000000</td>\n",
       "      <td>15.000000</td>\n",
       "      <td>255.000000</td>\n",
       "      <td>2.000000</td>\n",
       "      <td>-1.000000</td>\n",
       "      <td>0.000000</td>\n",
       "    </tr>\n",
       "    <tr>\n",
       "      <th>75%</th>\n",
       "      <td>49.000000</td>\n",
       "      <td>1708.000000</td>\n",
       "      <td>22.000000</td>\n",
       "      <td>496.000000</td>\n",
       "      <td>3.000000</td>\n",
       "      <td>20.750000</td>\n",
       "      <td>1.000000</td>\n",
       "    </tr>\n",
       "    <tr>\n",
       "      <th>max</th>\n",
       "      <td>95.000000</td>\n",
       "      <td>81204.000000</td>\n",
       "      <td>31.000000</td>\n",
       "      <td>3881.000000</td>\n",
       "      <td>63.000000</td>\n",
       "      <td>854.000000</td>\n",
       "      <td>58.000000</td>\n",
       "    </tr>\n",
       "  </tbody>\n",
       "</table>\n",
       "</div>"
      ],
      "text/plain": [
       "                age       balance           day      duration      campaign  \\\n",
       "count  11162.000000  11162.000000  11162.000000  11162.000000  11162.000000   \n",
       "mean      41.231948   1528.538524     15.658036    371.993818      2.508421   \n",
       "std       11.913369   3225.413326      8.420740    347.128386      2.722077   \n",
       "min       18.000000  -6847.000000      1.000000      2.000000      1.000000   \n",
       "25%       32.000000    122.000000      8.000000    138.000000      1.000000   \n",
       "50%       39.000000    550.000000     15.000000    255.000000      2.000000   \n",
       "75%       49.000000   1708.000000     22.000000    496.000000      3.000000   \n",
       "max       95.000000  81204.000000     31.000000   3881.000000     63.000000   \n",
       "\n",
       "              pdays      previous  \n",
       "count  11162.000000  11162.000000  \n",
       "mean      51.330407      0.832557  \n",
       "std      108.758282      2.292007  \n",
       "min       -1.000000      0.000000  \n",
       "25%       -1.000000      0.000000  \n",
       "50%       -1.000000      0.000000  \n",
       "75%       20.750000      1.000000  \n",
       "max      854.000000     58.000000  "
      ]
     },
     "execution_count": 5,
     "metadata": {},
     "output_type": "execute_result"
    }
   ],
   "source": [
    "dataset.describe()"
   ]
  },
  {
   "cell_type": "code",
   "execution_count": 6,
   "metadata": {},
   "outputs": [
    {
     "name": "stdout",
     "output_type": "stream",
     "text": [
      "<class 'pandas.core.frame.DataFrame'>\n",
      "RangeIndex: 11162 entries, 0 to 11161\n",
      "Data columns (total 17 columns):\n",
      " #   Column     Non-Null Count  Dtype \n",
      "---  ------     --------------  ----- \n",
      " 0   age        11162 non-null  int64 \n",
      " 1   job        11162 non-null  object\n",
      " 2   marital    11162 non-null  object\n",
      " 3   education  11162 non-null  object\n",
      " 4   default    11162 non-null  object\n",
      " 5   balance    11162 non-null  int64 \n",
      " 6   housing    11162 non-null  object\n",
      " 7   loan       11162 non-null  object\n",
      " 8   contact    11162 non-null  object\n",
      " 9   day        11162 non-null  int64 \n",
      " 10  month      11162 non-null  object\n",
      " 11  duration   11162 non-null  int64 \n",
      " 12  campaign   11162 non-null  int64 \n",
      " 13  pdays      11162 non-null  int64 \n",
      " 14  previous   11162 non-null  int64 \n",
      " 15  poutcome   11162 non-null  object\n",
      " 16  deposit    11162 non-null  object\n",
      "dtypes: int64(7), object(10)\n",
      "memory usage: 1.4+ MB\n"
     ]
    }
   ],
   "source": [
    "#3. handling missing values\n",
    "dataset.info()"
   ]
  },
  {
   "cell_type": "code",
   "execution_count": 7,
   "metadata": {},
   "outputs": [
    {
     "data": {
      "text/plain": [
       "age          False\n",
       "job          False\n",
       "marital      False\n",
       "education    False\n",
       "default      False\n",
       "balance      False\n",
       "housing      False\n",
       "loan         False\n",
       "contact      False\n",
       "day          False\n",
       "month        False\n",
       "duration     False\n",
       "campaign     False\n",
       "pdays        False\n",
       "previous     False\n",
       "poutcome     False\n",
       "deposit      False\n",
       "dtype: bool"
      ]
     },
     "execution_count": 7,
     "metadata": {},
     "output_type": "execute_result"
    }
   ],
   "source": [
    "dataset.isnull().any()"
   ]
  },
  {
   "cell_type": "code",
   "execution_count": 8,
   "metadata": {},
   "outputs": [
    {
     "data": {
      "text/plain": [
       "age          0\n",
       "job          0\n",
       "marital      0\n",
       "education    0\n",
       "default      0\n",
       "balance      0\n",
       "housing      0\n",
       "loan         0\n",
       "contact      0\n",
       "day          0\n",
       "month        0\n",
       "duration     0\n",
       "campaign     0\n",
       "pdays        0\n",
       "previous     0\n",
       "poutcome     0\n",
       "deposit      0\n",
       "dtype: int64"
      ]
     },
     "execution_count": 8,
     "metadata": {},
     "output_type": "execute_result"
    }
   ],
   "source": [
    "dataset.isnull().sum()"
   ]
  },
  {
   "cell_type": "code",
   "execution_count": 9,
   "metadata": {},
   "outputs": [
    {
     "data": {
      "text/plain": [
       "41.231947679627304"
      ]
     },
     "execution_count": 9,
     "metadata": {},
     "output_type": "execute_result"
    }
   ],
   "source": [
    "dataset[\"age\"].mean()"
   ]
  },
  {
   "cell_type": "code",
   "execution_count": 10,
   "metadata": {},
   "outputs": [
    {
     "data": {
      "text/plain": [
       "'no'"
      ]
     },
     "execution_count": 10,
     "metadata": {},
     "output_type": "execute_result"
    }
   ],
   "source": [
    "dataset[\"housing\"].mode()[0]"
   ]
  },
  {
   "cell_type": "code",
   "execution_count": 11,
   "metadata": {},
   "outputs": [
    {
     "data": {
      "text/plain": [
       "'management'"
      ]
     },
     "execution_count": 11,
     "metadata": {},
     "output_type": "execute_result"
    }
   ],
   "source": [
    "dataset[\"job\"].mode()[0]"
   ]
  },
  {
   "cell_type": "code",
   "execution_count": 12,
   "metadata": {},
   "outputs": [],
   "source": [
    "#4. splitting the data into x and y\n",
    "x = dataset.iloc[:, :-1].values\n",
    "y = dataset.iloc[:, 16:17].values"
   ]
  },
  {
   "cell_type": "code",
   "execution_count": 13,
   "metadata": {},
   "outputs": [
    {
     "data": {
      "text/plain": [
       "array([[59, 'admin.', 'married', ..., -1, 0, 'unknown'],\n",
       "       [56, 'admin.', 'married', ..., -1, 0, 'unknown'],\n",
       "       [41, 'technician', 'married', ..., -1, 0, 'unknown'],\n",
       "       ...,\n",
       "       [32, 'technician', 'single', ..., -1, 0, 'unknown'],\n",
       "       [43, 'technician', 'married', ..., 172, 5, 'failure'],\n",
       "       [34, 'technician', 'married', ..., -1, 0, 'unknown']], dtype=object)"
      ]
     },
     "execution_count": 13,
     "metadata": {},
     "output_type": "execute_result"
    }
   ],
   "source": [
    "x"
   ]
  },
  {
   "cell_type": "code",
   "execution_count": 14,
   "metadata": {},
   "outputs": [
    {
     "data": {
      "text/plain": [
       "array([['yes'],\n",
       "       ['yes'],\n",
       "       ['yes'],\n",
       "       ...,\n",
       "       ['no'],\n",
       "       ['no'],\n",
       "       ['no']], dtype=object)"
      ]
     },
     "execution_count": 14,
     "metadata": {},
     "output_type": "execute_result"
    }
   ],
   "source": [
    "y"
   ]
  },
  {
   "cell_type": "code",
   "execution_count": 15,
   "metadata": {},
   "outputs": [
    {
     "name": "stdout",
     "output_type": "stream",
     "text": [
      "['admin.' 'technician' 'services' 'management' 'retired' 'blue-collar'\n",
      " 'unemployed' 'entrepreneur' 'housemaid' 'unknown' 'self-employed'\n",
      " 'student']\n",
      "['married' 'single' 'divorced']\n",
      "['secondary' 'tertiary' 'primary' 'unknown']\n",
      "['no' 'yes']\n",
      "['yes' 'no']\n",
      "['no' 'yes']\n",
      "['may' 'jun' 'jul' 'aug' 'oct' 'nov' 'dec' 'jan' 'feb' 'mar' 'apr' 'sep']\n",
      "['unknown' 'cellular' 'telephone']\n",
      "['unknown' 'other' 'failure' 'success']\n"
     ]
    }
   ],
   "source": [
    "print(dataset[\"job\"].unique())\n",
    "print(dataset[\"marital\"].unique())\n",
    "print(dataset[\"education\"].unique())\n",
    "print (dataset[\"default\"].unique())\n",
    "print (dataset[\"housing\"].unique())\n",
    "print(dataset[\"loan\"].unique())\n",
    "print(dataset[\"month\"].unique())\n",
    "print(dataset[\"contact\"].unique())\n",
    "print(dataset[\"poutcome\"].unique())\n",
    "\n",
    "#44 + 7 = 51"
   ]
  },
  {
   "cell_type": "code",
   "execution_count": 16,
   "metadata": {},
   "outputs": [
    {
     "data": {
      "text/plain": [
       "(11162, 16)"
      ]
     },
     "execution_count": 16,
     "metadata": {},
     "output_type": "execute_result"
    }
   ],
   "source": [
    "x.shape"
   ]
  },
  {
   "cell_type": "code",
   "execution_count": 17,
   "metadata": {},
   "outputs": [],
   "source": [
    "#5. handling categorical data \n",
    "from sklearn.compose import ColumnTransformer\n",
    "from sklearn.preprocessing import OneHotEncoder"
   ]
  },
  {
   "cell_type": "code",
   "execution_count": 18,
   "metadata": {},
   "outputs": [],
   "source": [
    "ct = ColumnTransformer([(\"one\", OneHotEncoder(), [1, 2, 3, 4, 6, 7, 8, 10, 15])], remainder = \"passthrough\")\n",
    "x = ct.fit_transform(x)"
   ]
  },
  {
   "cell_type": "code",
   "execution_count": 19,
   "metadata": {},
   "outputs": [
    {
     "data": {
      "text/plain": [
       "array([[1.0, 0.0, 0.0, ..., 1, -1, 0],\n",
       "       [1.0, 0.0, 0.0, ..., 1, -1, 0],\n",
       "       [0.0, 0.0, 0.0, ..., 1, -1, 0],\n",
       "       ...,\n",
       "       [0.0, 0.0, 0.0, ..., 2, -1, 0],\n",
       "       [0.0, 0.0, 0.0, ..., 2, 172, 5],\n",
       "       [0.0, 0.0, 0.0, ..., 1, -1, 0]], dtype=object)"
      ]
     },
     "execution_count": 19,
     "metadata": {},
     "output_type": "execute_result"
    }
   ],
   "source": [
    "x"
   ]
  },
  {
   "cell_type": "code",
   "execution_count": 20,
   "metadata": {},
   "outputs": [
    {
     "data": {
      "text/plain": [
       "array([1.0, 0.0, 0.0, 0.0, 0.0, 0.0, 0.0, 0.0, 0.0, 0.0, 0.0, 0.0, 0.0,\n",
       "       1.0, 0.0, 0.0, 1.0, 0.0, 0.0, 1.0, 0.0, 0.0, 1.0, 1.0, 0.0, 0.0,\n",
       "       0.0, 1.0, 0.0, 0.0, 0.0, 0.0, 0.0, 0.0, 0.0, 0.0, 1.0, 0.0, 0.0,\n",
       "       0.0, 0.0, 0.0, 0.0, 1.0, 59, 2343, 5, 1042, 1, -1, 0], dtype=object)"
      ]
     },
     "execution_count": 20,
     "metadata": {},
     "output_type": "execute_result"
    }
   ],
   "source": [
    "x[0]"
   ]
  },
  {
   "cell_type": "code",
   "execution_count": 21,
   "metadata": {},
   "outputs": [
    {
     "data": {
      "text/plain": [
       "(11162, 51)"
      ]
     },
     "execution_count": 21,
     "metadata": {},
     "output_type": "execute_result"
    }
   ],
   "source": [
    "x.shape\n",
    "#before = 16, now = 51"
   ]
  },
  {
   "cell_type": "code",
   "execution_count": 72,
   "metadata": {},
   "outputs": [],
   "source": [
    "\n",
    "y = dataset.deposit.replace(to_replace=['no', 'yes'], value=[0, 1])"
   ]
  },
  {
   "cell_type": "code",
   "execution_count": 73,
   "metadata": {},
   "outputs": [
    {
     "data": {
      "text/plain": [
       "0        1\n",
       "1        1\n",
       "2        1\n",
       "3        1\n",
       "4        1\n",
       "        ..\n",
       "11157    0\n",
       "11158    0\n",
       "11159    0\n",
       "11160    0\n",
       "11161    0\n",
       "Name: deposit, Length: 11162, dtype: int64"
      ]
     },
     "execution_count": 73,
     "metadata": {},
     "output_type": "execute_result"
    }
   ],
   "source": [
    "y"
   ]
  },
  {
   "cell_type": "code",
   "execution_count": 74,
   "metadata": {},
   "outputs": [],
   "source": [
    "#6. splitting the data into train and test\n",
    "from sklearn.model_selection import train_test_split\n",
    "x_train,x_test,y_train,y_test = train_test_split(x,y,test_size = 0.2, random_state = 0)"
   ]
  },
  {
   "cell_type": "code",
   "execution_count": 75,
   "metadata": {},
   "outputs": [
    {
     "name": "stdout",
     "output_type": "stream",
     "text": [
      "(11162, 51) xshape\n",
      "(11162,) yshape\n",
      "(8929, 51) x_train shape\n",
      "(2233, 51) x_test shape\n",
      "(8929,) y_train shape\n",
      "(2233,) y_test shape\n"
     ]
    }
   ],
   "source": [
    "print(x.shape,\"xshape\")\n",
    "print(y.shape,\"yshape\")\n",
    "print(x_train.shape,\"x_train shape\")\n",
    "print(x_test.shape,\"x_test shape\")\n",
    "print(y_train.shape,\"y_train shape\")\n",
    "print(y_test.shape,\"y_test shape\")"
   ]
  },
  {
   "cell_type": "code",
   "execution_count": 76,
   "metadata": {},
   "outputs": [],
   "source": [
    "#7. applying feature scaling\n",
    "from sklearn.preprocessing import StandardScaler"
   ]
  },
  {
   "cell_type": "code",
   "execution_count": 77,
   "metadata": {},
   "outputs": [
    {
     "data": {
      "text/html": [
       "<div>\n",
       "<style scoped>\n",
       "    .dataframe tbody tr th:only-of-type {\n",
       "        vertical-align: middle;\n",
       "    }\n",
       "\n",
       "    .dataframe tbody tr th {\n",
       "        vertical-align: top;\n",
       "    }\n",
       "\n",
       "    .dataframe thead th {\n",
       "        text-align: right;\n",
       "    }\n",
       "</style>\n",
       "<table border=\"1\" class=\"dataframe\">\n",
       "  <thead>\n",
       "    <tr style=\"text-align: right;\">\n",
       "      <th></th>\n",
       "      <th>age</th>\n",
       "      <th>balance</th>\n",
       "      <th>day</th>\n",
       "      <th>duration</th>\n",
       "      <th>campaign</th>\n",
       "      <th>pdays</th>\n",
       "      <th>previous</th>\n",
       "    </tr>\n",
       "  </thead>\n",
       "  <tbody>\n",
       "    <tr>\n",
       "      <th>count</th>\n",
       "      <td>11162.000000</td>\n",
       "      <td>11162.000000</td>\n",
       "      <td>11162.000000</td>\n",
       "      <td>11162.000000</td>\n",
       "      <td>11162.000000</td>\n",
       "      <td>11162.000000</td>\n",
       "      <td>11162.000000</td>\n",
       "    </tr>\n",
       "    <tr>\n",
       "      <th>mean</th>\n",
       "      <td>41.231948</td>\n",
       "      <td>1528.538524</td>\n",
       "      <td>15.658036</td>\n",
       "      <td>371.993818</td>\n",
       "      <td>2.508421</td>\n",
       "      <td>51.330407</td>\n",
       "      <td>0.832557</td>\n",
       "    </tr>\n",
       "    <tr>\n",
       "      <th>std</th>\n",
       "      <td>11.913369</td>\n",
       "      <td>3225.413326</td>\n",
       "      <td>8.420740</td>\n",
       "      <td>347.128386</td>\n",
       "      <td>2.722077</td>\n",
       "      <td>108.758282</td>\n",
       "      <td>2.292007</td>\n",
       "    </tr>\n",
       "    <tr>\n",
       "      <th>min</th>\n",
       "      <td>18.000000</td>\n",
       "      <td>-6847.000000</td>\n",
       "      <td>1.000000</td>\n",
       "      <td>2.000000</td>\n",
       "      <td>1.000000</td>\n",
       "      <td>-1.000000</td>\n",
       "      <td>0.000000</td>\n",
       "    </tr>\n",
       "    <tr>\n",
       "      <th>25%</th>\n",
       "      <td>32.000000</td>\n",
       "      <td>122.000000</td>\n",
       "      <td>8.000000</td>\n",
       "      <td>138.000000</td>\n",
       "      <td>1.000000</td>\n",
       "      <td>-1.000000</td>\n",
       "      <td>0.000000</td>\n",
       "    </tr>\n",
       "    <tr>\n",
       "      <th>50%</th>\n",
       "      <td>39.000000</td>\n",
       "      <td>550.000000</td>\n",
       "      <td>15.000000</td>\n",
       "      <td>255.000000</td>\n",
       "      <td>2.000000</td>\n",
       "      <td>-1.000000</td>\n",
       "      <td>0.000000</td>\n",
       "    </tr>\n",
       "    <tr>\n",
       "      <th>75%</th>\n",
       "      <td>49.000000</td>\n",
       "      <td>1708.000000</td>\n",
       "      <td>22.000000</td>\n",
       "      <td>496.000000</td>\n",
       "      <td>3.000000</td>\n",
       "      <td>20.750000</td>\n",
       "      <td>1.000000</td>\n",
       "    </tr>\n",
       "    <tr>\n",
       "      <th>max</th>\n",
       "      <td>95.000000</td>\n",
       "      <td>81204.000000</td>\n",
       "      <td>31.000000</td>\n",
       "      <td>3881.000000</td>\n",
       "      <td>63.000000</td>\n",
       "      <td>854.000000</td>\n",
       "      <td>58.000000</td>\n",
       "    </tr>\n",
       "  </tbody>\n",
       "</table>\n",
       "</div>"
      ],
      "text/plain": [
       "                age       balance           day      duration      campaign  \\\n",
       "count  11162.000000  11162.000000  11162.000000  11162.000000  11162.000000   \n",
       "mean      41.231948   1528.538524     15.658036    371.993818      2.508421   \n",
       "std       11.913369   3225.413326      8.420740    347.128386      2.722077   \n",
       "min       18.000000  -6847.000000      1.000000      2.000000      1.000000   \n",
       "25%       32.000000    122.000000      8.000000    138.000000      1.000000   \n",
       "50%       39.000000    550.000000     15.000000    255.000000      2.000000   \n",
       "75%       49.000000   1708.000000     22.000000    496.000000      3.000000   \n",
       "max       95.000000  81204.000000     31.000000   3881.000000     63.000000   \n",
       "\n",
       "              pdays      previous  \n",
       "count  11162.000000  11162.000000  \n",
       "mean      51.330407      0.832557  \n",
       "std      108.758282      2.292007  \n",
       "min       -1.000000      0.000000  \n",
       "25%       -1.000000      0.000000  \n",
       "50%       -1.000000      0.000000  \n",
       "75%       20.750000      1.000000  \n",
       "max      854.000000     58.000000  "
      ]
     },
     "execution_count": 77,
     "metadata": {},
     "output_type": "execute_result"
    }
   ],
   "source": [
    "dataset.describe()"
   ]
  },
  {
   "cell_type": "code",
   "execution_count": 78,
   "metadata": {},
   "outputs": [
    {
     "data": {
      "text/plain": [
       "0        59\n",
       "1        56\n",
       "2        41\n",
       "3        55\n",
       "4        54\n",
       "         ..\n",
       "11157    33\n",
       "11158    39\n",
       "11159    32\n",
       "11160    43\n",
       "11161    34\n",
       "Name: age, Length: 11162, dtype: int64"
      ]
     },
     "execution_count": 78,
     "metadata": {},
     "output_type": "execute_result"
    }
   ],
   "source": [
    "dataset[\"age\"]"
   ]
  },
  {
   "cell_type": "code",
   "execution_count": 79,
   "metadata": {},
   "outputs": [
    {
     "data": {
      "text/plain": [
       "1.4920235096557517"
      ]
     },
     "execution_count": 79,
     "metadata": {},
     "output_type": "execute_result"
    }
   ],
   "source": [
    "#using the formulae to scale\n",
    "#formulae = value - mean/std deviation\n",
    "(59-41.23)/11.91"
   ]
  },
  {
   "cell_type": "code",
   "execution_count": 80,
   "metadata": {},
   "outputs": [
    {
     "data": {
      "text/plain": [
       "array([[0.0, 0.0, 0.0, 0.0, 1.0, 0.0, 0.0, 0.0, 0.0, 0.0, 0.0, 0.0, 0.0,\n",
       "        1.0, 0.0, 0.0, 1.0, 0.0, 0.0, 1.0, 0.0, 0.0, 1.0, 1.0, 0.0, 0.0,\n",
       "        0.0, 1.0, 0.0, 0.0, 0.0, 0.0, 0.0, 0.0, 0.0, 0.0, 1.0, 0.0, 0.0,\n",
       "        0.0, 0.0, 0.0, 0.0, 1.0, 49, 104, 8, 285, 1, -1, 0],\n",
       "       [0.0, 0.0, 0.0, 0.0, 0.0, 1.0, 0.0, 0.0, 0.0, 0.0, 0.0, 0.0, 1.0,\n",
       "        0.0, 0.0, 0.0, 1.0, 0.0, 0.0, 1.0, 0.0, 1.0, 0.0, 1.0, 0.0, 1.0,\n",
       "        0.0, 0.0, 0.0, 0.0, 0.0, 1.0, 0.0, 0.0, 0.0, 0.0, 0.0, 0.0, 0.0,\n",
       "        0.0, 0.0, 0.0, 0.0, 1.0, 59, 514, 3, 261, 1, -1, 0],\n",
       "       [0.0, 1.0, 0.0, 0.0, 0.0, 0.0, 0.0, 0.0, 0.0, 0.0, 0.0, 0.0, 0.0,\n",
       "        1.0, 0.0, 1.0, 0.0, 0.0, 0.0, 1.0, 0.0, 1.0, 0.0, 1.0, 0.0, 1.0,\n",
       "        0.0, 0.0, 0.0, 0.0, 0.0, 0.0, 0.0, 0.0, 0.0, 0.0, 0.0, 1.0, 0.0,\n",
       "        0.0, 0.0, 0.0, 0.0, 1.0, 33, 195, 16, 984, 5, -1, 0],\n",
       "       [0.0, 0.0, 0.0, 0.0, 0.0, 0.0, 0.0, 0.0, 0.0, 0.0, 1.0, 0.0, 0.0,\n",
       "        1.0, 0.0, 0.0, 1.0, 0.0, 0.0, 1.0, 0.0, 0.0, 1.0, 1.0, 0.0, 1.0,\n",
       "        0.0, 0.0, 0.0, 1.0, 0.0, 0.0, 0.0, 0.0, 0.0, 0.0, 0.0, 0.0, 0.0,\n",
       "        0.0, 0.0, 0.0, 1.0, 0.0, 58, 687, 7, 221, 1, 99, 2],\n",
       "       [1.0, 0.0, 0.0, 0.0, 0.0, 0.0, 0.0, 0.0, 0.0, 0.0, 0.0, 0.0, 0.0,\n",
       "        1.0, 0.0, 0.0, 1.0, 0.0, 0.0, 1.0, 0.0, 0.0, 1.0, 1.0, 0.0, 1.0,\n",
       "        0.0, 0.0, 0.0, 0.0, 0.0, 0.0, 0.0, 0.0, 0.0, 0.0, 1.0, 0.0, 0.0,\n",
       "        0.0, 0.0, 1.0, 0.0, 0.0, 33, 1077, 18, 432, 3, 374, 3]],\n",
       "      dtype=object)"
      ]
     },
     "execution_count": 80,
     "metadata": {},
     "output_type": "execute_result"
    }
   ],
   "source": [
    "#first five rows with all columns before scaling\n",
    "x_train[0:5,:]"
   ]
  },
  {
   "cell_type": "code",
   "execution_count": 81,
   "metadata": {},
   "outputs": [
    {
     "data": {
      "text/plain": [
       "6111     0\n",
       "1149     1\n",
       "2954     1\n",
       "2458     1\n",
       "7504     0\n",
       "        ..\n",
       "4859     1\n",
       "3264     1\n",
       "9845     0\n",
       "10799    0\n",
       "2732     1\n",
       "Name: deposit, Length: 8929, dtype: int64"
      ]
     },
     "execution_count": 81,
     "metadata": {},
     "output_type": "execute_result"
    }
   ],
   "source": [
    "#before scaling\n",
    "y_train"
   ]
  },
  {
   "cell_type": "code",
   "execution_count": 102,
   "metadata": {},
   "outputs": [],
   "source": [
    "sc = StandardScaler()\n",
    "x_train = sc.fit_transform(x_train)\n",
    "x_test = sc.fit_transform(x_test)"
   ]
  },
  {
   "cell_type": "code",
   "execution_count": 103,
   "metadata": {},
   "outputs": [
    {
     "data": {
      "text/plain": [
       "array([[-0.37172192, -0.45760242, -0.17658264, -0.1589378 ,  1.8452729 ,\n",
       "        -0.27363591, -0.1931085 , -0.30435733, -0.17992689, -0.44212513,\n",
       "        -0.18025832, -0.08293772, -0.36485864,  0.86351031, -0.66975544,\n",
       "        -0.39346051,  1.01614555, -0.69993206, -0.21741017,  0.12621015,\n",
       "        -0.12621015, -1.05825117,  1.05825117,  0.39003722, -0.39003722,\n",
       "        -1.60273048, -0.27292594,  1.93439945, -0.30193478, -0.39913565,\n",
       "        -0.09686471, -0.27410848, -0.17488949, -0.39459853, -0.34910544,\n",
       "        -0.15930776,  1.70870313, -0.30215554, -0.1931085 , -0.16761389,\n",
       "        -0.35031555, -0.22657536, -0.32939951,  0.58661881,  0.64941897,\n",
       "        -0.44565283, -0.90504798, -0.2483547 , -0.56394809, -0.48428507,\n",
       "        -0.35888264],\n",
       "       [-0.37172192, -0.45760242, -0.17658264, -0.1589378 , -0.54192526,\n",
       "         3.65449114, -0.1931085 , -0.30435733, -0.17992689, -0.44212513,\n",
       "        -0.18025832, -0.08293772,  2.7407875 , -1.15806377, -0.66975544,\n",
       "        -0.39346051,  1.01614555, -0.69993206, -0.21741017,  0.12621015,\n",
       "        -0.12621015,  0.94495525, -0.94495525,  0.39003722, -0.39003722,\n",
       "         0.62393522, -0.27292594, -0.51695631, -0.30193478, -0.39913565,\n",
       "        -0.09686471,  3.64819063, -0.17488949, -0.39459853, -0.34910544,\n",
       "        -0.15930776, -0.58523917, -0.30215554, -0.1931085 , -0.16761389,\n",
       "        -0.35031555, -0.22657536, -0.32939951,  0.58661881,  1.48737591,\n",
       "        -0.31617229, -1.50003939, -0.31759131, -0.56394809, -0.48428507,\n",
       "        -0.35888264],\n",
       "       [-0.37172192,  2.18530314, -0.17658264, -0.1589378 , -0.54192526,\n",
       "        -0.27363591, -0.1931085 , -0.30435733, -0.17992689, -0.44212513,\n",
       "        -0.18025832, -0.08293772, -0.36485864,  0.86351031, -0.66975544,\n",
       "         2.54155111, -0.98411098, -0.69993206, -0.21741017,  0.12621015,\n",
       "        -0.12621015,  0.94495525, -0.94495525,  0.39003722, -0.39003722,\n",
       "         0.62393522, -0.27292594, -0.51695631, -0.30193478, -0.39913565,\n",
       "        -0.09686471, -0.27410848, -0.17488949, -0.39459853, -0.34910544,\n",
       "        -0.15930776, -0.58523917,  3.30955373, -0.1931085 , -0.16761389,\n",
       "        -0.35031555, -0.22657536, -0.32939951,  0.58661881, -0.69131213,\n",
       "        -0.41691446,  0.04693829,  1.76816153,  0.92827075, -0.48428507,\n",
       "        -0.35888264],\n",
       "       [-0.37172192, -0.45760242, -0.17658264, -0.1589378 , -0.54192526,\n",
       "        -0.27363591, -0.1931085 , -0.30435733, -0.17992689, -0.44212513,\n",
       "         5.54759414, -0.08293772, -0.36485864,  0.86351031, -0.66975544,\n",
       "        -0.39346051,  1.01614555, -0.69993206, -0.21741017,  0.12621015,\n",
       "        -0.12621015, -1.05825117,  1.05825117,  0.39003722, -0.39003722,\n",
       "         0.62393522, -0.27292594, -0.51695631, -0.30193478,  2.50541386,\n",
       "        -0.09686471, -0.27410848, -0.17488949, -0.39459853, -0.34910544,\n",
       "        -0.15930776, -0.58523917, -0.30215554, -0.1931085 , -0.16761389,\n",
       "        -0.35031555, -0.22657536,  3.03582726, -1.7046845 ,  1.40358022,\n",
       "        -0.26153782, -1.02404626, -0.43298566, -0.56394809,  0.43567719,\n",
       "         0.48684529],\n",
       "       [ 2.69018306, -0.45760242, -0.17658264, -0.1589378 , -0.54192526,\n",
       "        -0.27363591, -0.1931085 , -0.30435733, -0.17992689, -0.44212513,\n",
       "        -0.18025832, -0.08293772, -0.36485864,  0.86351031, -0.66975544,\n",
       "        -0.39346051,  1.01614555, -0.69993206, -0.21741017,  0.12621015,\n",
       "        -0.12621015, -1.05825117,  1.05825117,  0.39003722, -0.39003722,\n",
       "         0.62393522, -0.27292594, -0.51695631, -0.30193478, -0.39913565,\n",
       "        -0.09686471, -0.27410848, -0.17488949, -0.39459853, -0.34910544,\n",
       "        -0.15930776,  1.70870313, -0.30215554, -0.1931085 , -0.16761389,\n",
       "        -0.35031555,  4.41354255, -0.32939951, -1.7046845 , -0.69131213,\n",
       "        -0.13837341,  0.28493485,  0.17571953,  0.18216133,  2.96557339,\n",
       "         0.90970925]])"
      ]
     },
     "execution_count": 103,
     "metadata": {},
     "output_type": "execute_result"
    }
   ],
   "source": [
    "#first five rows with all columns after scaling\n",
    "x_train[0:5,:]"
   ]
  },
  {
   "cell_type": "code",
   "execution_count": 104,
   "metadata": {},
   "outputs": [
    {
     "data": {
      "text/plain": [
       "6111     0\n",
       "1149     1\n",
       "2954     1\n",
       "2458     1\n",
       "7504     0\n",
       "        ..\n",
       "4859     1\n",
       "3264     1\n",
       "9845     0\n",
       "10799    0\n",
       "2732     1\n",
       "Name: deposit, Length: 8929, dtype: int64"
      ]
     },
     "execution_count": 104,
     "metadata": {},
     "output_type": "execute_result"
    }
   ],
   "source": [
    "#after scaling\n",
    "y_train"
   ]
  },
  {
   "cell_type": "code",
   "execution_count": 105,
   "metadata": {},
   "outputs": [],
   "source": [
    "#building the model\n",
    "# this library is used to initialise the model\n",
    "from tensorflow.keras.models import Sequential \n",
    "# this is to add layers\n",
    "from tensorflow.keras.layers import Dense "
   ]
  },
  {
   "cell_type": "code",
   "execution_count": 106,
   "metadata": {},
   "outputs": [],
   "source": [
    "# modelname = Sequential()\n",
    "Regression = Sequential() "
   ]
  },
  {
   "cell_type": "code",
   "execution_count": 107,
   "metadata": {},
   "outputs": [
    {
     "data": {
      "text/plain": [
       "(8929, 51)"
      ]
     },
     "execution_count": 107,
     "metadata": {},
     "output_type": "execute_result"
    }
   ],
   "source": [
    "x_train.shape"
   ]
  },
  {
   "cell_type": "code",
   "execution_count": 108,
   "metadata": {},
   "outputs": [],
   "source": [
    "#input layer\n",
    "#units = no of inputs \n",
    "#kernal_initializer is random so it will randomly generate the weights\n",
    "Regression.add(Dense(units = 16, kernel_initializer = \"random_uniform\", activation = \"relu\"))"
   ]
  },
  {
   "cell_type": "code",
   "execution_count": 109,
   "metadata": {},
   "outputs": [],
   "source": [
    "#hidden layer\n",
    "# in hiddel layer the ideal count of neurons would be 2* no of neuron in inpout layer\n",
    "Regression.add(Dense(units = 32  , kernel_initializer = \"random_uniform\", activation = \"relu\"))\n",
    "Regression.add(Dense(units = 32  , kernel_initializer = \"random_uniform\", activation = \"relu\"))\n",
    "Regression.add(Dense(units = 32 , kernel_initializer = \"random_uniform\", activation = \"relu\"))\n",
    "Regression.add(Dense(units = 32  , kernel_initializer = \"random_uniform\", activation = \"relu\"))\n",
    "Regression.add(Dense(units = 32 , kernel_initializer = \"random_uniform\", activation = \"relu\"))"
   ]
  },
  {
   "cell_type": "code",
   "execution_count": 110,
   "metadata": {},
   "outputs": [],
   "source": [
    "#output layer\n",
    "#outout is either 1 or 0 \n",
    "Regression.add(Dense(units = 1 , kernel_initializer = \"random_uniform\", activation = \"relu\"))"
   ]
  },
  {
   "cell_type": "code",
   "execution_count": 111,
   "metadata": {},
   "outputs": [],
   "source": [
    "#compiler - gradient descent \n",
    "#sgd is not used because the accuracy is not good\n",
    "#adam is like batch GD\n",
    "Regression.compile(optimizer = \"rmsprop\", loss = \"mean_squared_error\", metrics = [\"accuracy\"])"
   ]
  },
  {
   "cell_type": "code",
   "execution_count": 112,
   "metadata": {},
   "outputs": [
    {
     "name": "stdout",
     "output_type": "stream",
     "text": [
      "Epoch 1/100\n",
      "280/280 [==============================] - 1s 783us/step - loss: 0.1848 - accuracy: 0.7552\n",
      "Epoch 2/100\n",
      "280/280 [==============================] - 0s 968us/step - loss: 0.1481 - accuracy: 0.8075\n",
      "Epoch 3/100\n",
      "280/280 [==============================] - 0s 1ms/step - loss: 0.1433 - accuracy: 0.8136\n",
      "Epoch 4/100\n",
      "280/280 [==============================] - 1s 2ms/step - loss: 0.1385 - accuracy: 0.8228\n",
      "Epoch 5/100\n",
      "280/280 [==============================] - 1s 2ms/step - loss: 0.1301 - accuracy: 0.8331\n",
      "Epoch 6/100\n",
      "280/280 [==============================] - 0s 2ms/step - loss: 0.1225 - accuracy: 0.8471\n",
      "Epoch 7/100\n",
      "280/280 [==============================] - 0s 2ms/step - loss: 0.1164 - accuracy: 0.8465\n",
      "Epoch 8/100\n",
      "280/280 [==============================] - 0s 2ms/step - loss: 0.1122 - accuracy: 0.8508\n",
      "Epoch 9/100\n",
      "280/280 [==============================] - 0s 2ms/step - loss: 0.1104 - accuracy: 0.8543\n",
      "Epoch 10/100\n",
      "280/280 [==============================] - 0s 2ms/step - loss: 0.1078 - accuracy: 0.8583\n",
      "Epoch 11/100\n",
      "280/280 [==============================] - 0s 855us/step - loss: 0.1072 - accuracy: 0.8581\n",
      "Epoch 12/100\n",
      "280/280 [==============================] - 0s 822us/step - loss: 0.1058 - accuracy: 0.8610\n",
      "Epoch 13/100\n",
      "280/280 [==============================] - 0s 1ms/step - loss: 0.1046 - accuracy: 0.8628\n",
      "Epoch 14/100\n",
      "280/280 [==============================] - 1s 2ms/step - loss: 0.1041 - accuracy: 0.8618\n",
      "Epoch 15/100\n",
      "280/280 [==============================] - 0s 1ms/step - loss: 0.1019 - accuracy: 0.8686\n",
      "Epoch 16/100\n",
      "280/280 [==============================] - 0s 959us/step - loss: 0.1015 - accuracy: 0.8656\n",
      "Epoch 17/100\n",
      "280/280 [==============================] - 0s 843us/step - loss: 0.1011 - accuracy: 0.8689\n",
      "Epoch 18/100\n",
      "280/280 [==============================] - 0s 838us/step - loss: 0.1001 - accuracy: 0.8705\n",
      "Epoch 19/100\n",
      "280/280 [==============================] - 0s 857us/step - loss: 0.0997 - accuracy: 0.8710\n",
      "Epoch 20/100\n",
      "280/280 [==============================] - 0s 811us/step - loss: 0.0990 - accuracy: 0.8720\n",
      "Epoch 21/100\n",
      "280/280 [==============================] - 0s 944us/step - loss: 0.0983 - accuracy: 0.8715\n",
      "Epoch 22/100\n",
      "280/280 [==============================] - 0s 843us/step - loss: 0.0978 - accuracy: 0.8718\n",
      "Epoch 23/100\n",
      "280/280 [==============================] - 0s 890us/step - loss: 0.0977 - accuracy: 0.8751\n",
      "Epoch 24/100\n",
      "280/280 [==============================] - 0s 860us/step - loss: 0.0972 - accuracy: 0.8742\n",
      "Epoch 25/100\n",
      "280/280 [==============================] - 0s 1ms/step - loss: 0.0971 - accuracy: 0.8747\n",
      "Epoch 26/100\n",
      "280/280 [==============================] - 0s 1ms/step - loss: 0.0959 - accuracy: 0.8776\n",
      "Epoch 27/100\n",
      "280/280 [==============================] - 0s 2ms/step - loss: 0.0962 - accuracy: 0.8768\n",
      "Epoch 28/100\n",
      "280/280 [==============================] - 0s 1ms/step - loss: 0.0948 - accuracy: 0.8798\n",
      "Epoch 29/100\n",
      "280/280 [==============================] - 0s 946us/step - loss: 0.0955 - accuracy: 0.8774\n",
      "Epoch 30/100\n",
      "280/280 [==============================] - 0s 761us/step - loss: 0.0954 - accuracy: 0.8780\n",
      "Epoch 31/100\n",
      "280/280 [==============================] - 0s 807us/step - loss: 0.0946 - accuracy: 0.8813\n",
      "Epoch 32/100\n",
      "280/280 [==============================] - 0s 830us/step - loss: 0.0940 - accuracy: 0.8823\n",
      "Epoch 33/100\n",
      "280/280 [==============================] - 0s 849us/step - loss: 0.0941 - accuracy: 0.8822\n",
      "Epoch 34/100\n",
      "280/280 [==============================] - 0s 2ms/step - loss: 0.0945 - accuracy: 0.8795\n",
      "Epoch 35/100\n",
      "280/280 [==============================] - 0s 1ms/step - loss: 0.0943 - accuracy: 0.8815: 0s - loss: 0.0892 - accura\n",
      "Epoch 36/100\n",
      "280/280 [==============================] - 0s 969us/step - loss: 0.0930 - accuracy: 0.8837\n",
      "Epoch 37/100\n",
      "280/280 [==============================] - 0s 792us/step - loss: 0.0929 - accuracy: 0.8826\n",
      "Epoch 38/100\n",
      "280/280 [==============================] - 0s 821us/step - loss: 0.0927 - accuracy: 0.8825\n",
      "Epoch 39/100\n",
      "280/280 [==============================] - 0s 808us/step - loss: 0.0929 - accuracy: 0.8842\n",
      "Epoch 40/100\n",
      "280/280 [==============================] - 0s 835us/step - loss: 0.0922 - accuracy: 0.8836\n",
      "Epoch 41/100\n",
      "280/280 [==============================] - 0s 826us/step - loss: 0.0925 - accuracy: 0.8834\n",
      "Epoch 42/100\n",
      "280/280 [==============================] - 0s 1ms/step - loss: 0.0913 - accuracy: 0.8860\n",
      "Epoch 43/100\n",
      "280/280 [==============================] - 0s 1ms/step - loss: 0.0919 - accuracy: 0.8846\n",
      "Epoch 44/100\n",
      "280/280 [==============================] - 0s 1ms/step - loss: 0.0914 - accuracy: 0.8871\n",
      "Epoch 45/100\n",
      "280/280 [==============================] - 0s 2ms/step - loss: 0.0912 - accuracy: 0.8831\n",
      "Epoch 46/100\n",
      "280/280 [==============================] - 0s 1ms/step - loss: 0.0903 - accuracy: 0.8882\n",
      "Epoch 47/100\n",
      "280/280 [==============================] - 0s 944us/step - loss: 0.0907 - accuracy: 0.8861\n",
      "Epoch 48/100\n",
      "280/280 [==============================] - 0s 820us/step - loss: 0.0901 - accuracy: 0.8886\n",
      "Epoch 49/100\n",
      "280/280 [==============================] - 0s 2ms/step - loss: 0.0899 - accuracy: 0.8895\n",
      "Epoch 50/100\n",
      "280/280 [==============================] - 1s 2ms/step - loss: 0.0898 - accuracy: 0.8883\n",
      "Epoch 51/100\n",
      "280/280 [==============================] - 1s 2ms/step - loss: 0.0897 - accuracy: 0.8864\n",
      "Epoch 52/100\n",
      "280/280 [==============================] - 1s 2ms/step - loss: 0.0891 - accuracy: 0.8905\n",
      "Epoch 53/100\n",
      "280/280 [==============================] - 0s 2ms/step - loss: 0.0894 - accuracy: 0.8896\n",
      "Epoch 54/100\n",
      "280/280 [==============================] - 1s 2ms/step - loss: 0.0889 - accuracy: 0.8906\n",
      "Epoch 55/100\n",
      "280/280 [==============================] - 1s 2ms/step - loss: 0.0886 - accuracy: 0.8900\n",
      "Epoch 56/100\n",
      "280/280 [==============================] - 1s 3ms/step - loss: 0.0880 - accuracy: 0.8911\n",
      "Epoch 57/100\n",
      "280/280 [==============================] - 1s 2ms/step - loss: 0.0887 - accuracy: 0.8901\n",
      "Epoch 58/100\n",
      "280/280 [==============================] - 0s 2ms/step - loss: 0.0881 - accuracy: 0.8921\n",
      "Epoch 59/100\n",
      "280/280 [==============================] - 0s 1ms/step - loss: 0.0886 - accuracy: 0.8897\n",
      "Epoch 60/100\n",
      "280/280 [==============================] - 0s 1ms/step - loss: 0.0874 - accuracy: 0.8936\n",
      "Epoch 61/100\n",
      "280/280 [==============================] - 0s 1ms/step - loss: 0.0876 - accuracy: 0.8915\n",
      "Epoch 62/100\n",
      "280/280 [==============================] - 0s 997us/step - loss: 0.0872 - accuracy: 0.8925\n",
      "Epoch 63/100\n",
      "280/280 [==============================] - 0s 962us/step - loss: 0.0865 - accuracy: 0.8948\n",
      "Epoch 64/100\n",
      "280/280 [==============================] - 0s 993us/step - loss: 0.0867 - accuracy: 0.8935\n",
      "Epoch 65/100\n",
      "280/280 [==============================] - 0s 1ms/step - loss: 0.0866 - accuracy: 0.8928\n",
      "Epoch 66/100\n",
      "280/280 [==============================] - 0s 1ms/step - loss: 0.0866 - accuracy: 0.8936\n",
      "Epoch 67/100\n",
      "280/280 [==============================] - 0s 1ms/step - loss: 0.0865 - accuracy: 0.8944\n",
      "Epoch 68/100\n",
      "280/280 [==============================] - ETA: 0s - loss: 0.0861 - accuracy: 0.89 - 0s 995us/step - loss: 0.0858 - accuracy: 0.8953\n",
      "Epoch 69/100\n",
      "280/280 [==============================] - 0s 1ms/step - loss: 0.0859 - accuracy: 0.8942\n",
      "Epoch 70/100\n",
      "280/280 [==============================] - 0s 847us/step - loss: 0.0859 - accuracy: 0.8952\n",
      "Epoch 71/100\n",
      "280/280 [==============================] - 0s 1ms/step - loss: 0.0853 - accuracy: 0.8951\n",
      "Epoch 72/100\n",
      "280/280 [==============================] - 0s 2ms/step - loss: 0.0845 - accuracy: 0.8970\n",
      "Epoch 73/100\n",
      "280/280 [==============================] - 0s 1ms/step - loss: 0.0852 - accuracy: 0.8951\n",
      "Epoch 74/100\n",
      "280/280 [==============================] - 0s 937us/step - loss: 0.0845 - accuracy: 0.8979\n",
      "Epoch 75/100\n",
      "280/280 [==============================] - 0s 924us/step - loss: 0.0843 - accuracy: 0.8969\n",
      "Epoch 76/100\n",
      "280/280 [==============================] - 0s 872us/step - loss: 0.0845 - accuracy: 0.8973\n",
      "Epoch 77/100\n",
      "280/280 [==============================] - 0s 933us/step - loss: 0.0840 - accuracy: 0.8971\n",
      "Epoch 78/100\n",
      "280/280 [==============================] - 0s 880us/step - loss: 0.0834 - accuracy: 0.8976\n",
      "Epoch 79/100\n",
      "280/280 [==============================] - 0s 930us/step - loss: 0.0838 - accuracy: 0.8965\n",
      "Epoch 80/100\n",
      "280/280 [==============================] - 0s 856us/step - loss: 0.0831 - accuracy: 0.8985\n",
      "Epoch 81/100\n",
      "280/280 [==============================] - 0s 915us/step - loss: 0.0834 - accuracy: 0.8974\n",
      "Epoch 82/100\n",
      "280/280 [==============================] - 0s 926us/step - loss: 0.0821 - accuracy: 0.8997\n",
      "Epoch 83/100\n",
      "280/280 [==============================] - 0s 861us/step - loss: 0.0830 - accuracy: 0.8994\n",
      "Epoch 84/100\n",
      "280/280 [==============================] - 0s 887us/step - loss: 0.0821 - accuracy: 0.8999\n",
      "Epoch 85/100\n",
      "280/280 [==============================] - 0s 823us/step - loss: 0.0822 - accuracy: 0.8991\n",
      "Epoch 86/100\n",
      "280/280 [==============================] - 0s 965us/step - loss: 0.0818 - accuracy: 0.9004\n",
      "Epoch 87/100\n",
      "280/280 [==============================] - 0s 1ms/step - loss: 0.0807 - accuracy: 0.9029\n",
      "Epoch 88/100\n",
      "280/280 [==============================] - 0s 1ms/step - loss: 0.0807 - accuracy: 0.9019\n",
      "Epoch 89/100\n",
      "280/280 [==============================] - 0s 1ms/step - loss: 0.0815 - accuracy: 0.9012\n",
      "Epoch 90/100\n",
      "280/280 [==============================] - 0s 926us/step - loss: 0.0809 - accuracy: 0.9011\n",
      "Epoch 91/100\n",
      "280/280 [==============================] - 0s 1ms/step - loss: 0.0809 - accuracy: 0.9003\n",
      "Epoch 92/100\n",
      "280/280 [==============================] - 0s 1ms/step - loss: 0.0808 - accuracy: 0.9023\n",
      "Epoch 93/100\n",
      "280/280 [==============================] - 0s 1ms/step - loss: 0.0808 - accuracy: 0.9007\n",
      "Epoch 94/100\n",
      "280/280 [==============================] - 1s 2ms/step - loss: 0.0805 - accuracy: 0.9020\n",
      "Epoch 95/100\n",
      "280/280 [==============================] - 0s 2ms/step - loss: 0.0806 - accuracy: 0.9014\n",
      "Epoch 96/100\n",
      "280/280 [==============================] - 0s 2ms/step - loss: 0.0809 - accuracy: 0.9009\n",
      "Epoch 97/100\n",
      "280/280 [==============================] - 0s 2ms/step - loss: 0.0796 - accuracy: 0.9037\n",
      "Epoch 98/100\n",
      "280/280 [==============================] - 1s 2ms/step - loss: 0.0802 - accuracy: 0.9008\n",
      "Epoch 99/100\n",
      "280/280 [==============================] - 0s 2ms/step - loss: 0.0795 - accuracy: 0.9035\n",
      "Epoch 100/100\n",
      "280/280 [==============================] - 1s 2ms/step - loss: 0.0798 - accuracy: 0.9023\n"
     ]
    },
    {
     "data": {
      "text/plain": [
       "<keras.callbacks.History at 0x25f8be9aa30>"
      ]
     },
     "execution_count": 112,
     "metadata": {},
     "output_type": "execute_result"
    }
   ],
   "source": [
    "#training the model \n",
    "#epochs = 350, model will be trained 350 times \n",
    "Regression.fit(x_train, y_train, epochs = 100)"
   ]
  },
  {
   "cell_type": "code",
   "execution_count": 113,
   "metadata": {},
   "outputs": [
    {
     "data": {
      "text/plain": [
       "array([[0.09803137],\n",
       "       [1.1313208 ],\n",
       "       [0.        ],\n",
       "       ...,\n",
       "       [1.0196987 ],\n",
       "       [0.        ],\n",
       "       [0.53809416]], dtype=float32)"
      ]
     },
     "execution_count": 113,
     "metadata": {},
     "output_type": "execute_result"
    }
   ],
   "source": [
    "#testing the model with x_test(questions)\n",
    "ypred = Regression.predict(x_test)\n",
    "ypred \n",
    "#the values are between 0 to 1 because sigmoid is used"
   ]
  },
  {
   "cell_type": "code",
   "execution_count": 114,
   "metadata": {},
   "outputs": [
    {
     "data": {
      "text/plain": [
       "array([[ True],\n",
       "       [ True],\n",
       "       [False],\n",
       "       ...,\n",
       "       [ True],\n",
       "       [False],\n",
       "       [ True]])"
      ]
     },
     "execution_count": 114,
     "metadata": {},
     "output_type": "execute_result"
    }
   ],
   "source": [
    "ypred =  ypred > 0\n",
    "ypred"
   ]
  },
  {
   "cell_type": "code",
   "execution_count": 115,
   "metadata": {},
   "outputs": [
    {
     "data": {
      "text/plain": [
       "9058    0\n",
       "3279    1\n",
       "6502    0\n",
       "9327    0\n",
       "9965    0\n",
       "       ..\n",
       "6003    0\n",
       "5606    0\n",
       "4808    1\n",
       "3697    1\n",
       "9952    0\n",
       "Name: deposit, Length: 2233, dtype: int64"
      ]
     },
     "execution_count": 115,
     "metadata": {},
     "output_type": "execute_result"
    }
   ],
   "source": [
    "y_test"
   ]
  },
  {
   "cell_type": "code",
   "execution_count": 116,
   "metadata": {},
   "outputs": [
    {
     "data": {
      "text/plain": [
       "array([[ True],\n",
       "       [ True],\n",
       "       [False],\n",
       "       [ True],\n",
       "       [ True],\n",
       "       [ True],\n",
       "       [ True],\n",
       "       [ True],\n",
       "       [ True],\n",
       "       [False]])"
      ]
     },
     "execution_count": 116,
     "metadata": {},
     "output_type": "execute_result"
    }
   ],
   "source": [
    "ypred[0:10]"
   ]
  },
  {
   "cell_type": "code",
   "execution_count": 117,
   "metadata": {},
   "outputs": [
    {
     "data": {
      "text/plain": [
       "9058     0\n",
       "3279     1\n",
       "6502     0\n",
       "9327     0\n",
       "9965     0\n",
       "3212     1\n",
       "3032     1\n",
       "10620    0\n",
       "4606     1\n",
       "1978     1\n",
       "Name: deposit, dtype: int64"
      ]
     },
     "execution_count": 117,
     "metadata": {},
     "output_type": "execute_result"
    }
   ],
   "source": [
    "y_test[0:10]"
   ]
  },
  {
   "cell_type": "code",
   "execution_count": 118,
   "metadata": {},
   "outputs": [
    {
     "data": {
      "text/html": [
       "<div>\n",
       "<style scoped>\n",
       "    .dataframe tbody tr th:only-of-type {\n",
       "        vertical-align: middle;\n",
       "    }\n",
       "\n",
       "    .dataframe tbody tr th {\n",
       "        vertical-align: top;\n",
       "    }\n",
       "\n",
       "    .dataframe thead th {\n",
       "        text-align: right;\n",
       "    }\n",
       "</style>\n",
       "<table border=\"1\" class=\"dataframe\">\n",
       "  <thead>\n",
       "    <tr style=\"text-align: right;\">\n",
       "      <th></th>\n",
       "      <th>age</th>\n",
       "      <th>job</th>\n",
       "      <th>marital</th>\n",
       "      <th>education</th>\n",
       "      <th>default</th>\n",
       "      <th>balance</th>\n",
       "      <th>housing</th>\n",
       "      <th>loan</th>\n",
       "      <th>contact</th>\n",
       "      <th>day</th>\n",
       "      <th>month</th>\n",
       "      <th>duration</th>\n",
       "      <th>campaign</th>\n",
       "      <th>pdays</th>\n",
       "      <th>previous</th>\n",
       "      <th>poutcome</th>\n",
       "      <th>deposit</th>\n",
       "    </tr>\n",
       "  </thead>\n",
       "  <tbody>\n",
       "    <tr>\n",
       "      <th>0</th>\n",
       "      <td>59</td>\n",
       "      <td>admin.</td>\n",
       "      <td>married</td>\n",
       "      <td>secondary</td>\n",
       "      <td>no</td>\n",
       "      <td>2343</td>\n",
       "      <td>yes</td>\n",
       "      <td>no</td>\n",
       "      <td>unknown</td>\n",
       "      <td>5</td>\n",
       "      <td>may</td>\n",
       "      <td>1042</td>\n",
       "      <td>1</td>\n",
       "      <td>-1</td>\n",
       "      <td>0</td>\n",
       "      <td>unknown</td>\n",
       "      <td>yes</td>\n",
       "    </tr>\n",
       "    <tr>\n",
       "      <th>1</th>\n",
       "      <td>56</td>\n",
       "      <td>admin.</td>\n",
       "      <td>married</td>\n",
       "      <td>secondary</td>\n",
       "      <td>no</td>\n",
       "      <td>45</td>\n",
       "      <td>no</td>\n",
       "      <td>no</td>\n",
       "      <td>unknown</td>\n",
       "      <td>5</td>\n",
       "      <td>may</td>\n",
       "      <td>1467</td>\n",
       "      <td>1</td>\n",
       "      <td>-1</td>\n",
       "      <td>0</td>\n",
       "      <td>unknown</td>\n",
       "      <td>yes</td>\n",
       "    </tr>\n",
       "    <tr>\n",
       "      <th>2</th>\n",
       "      <td>41</td>\n",
       "      <td>technician</td>\n",
       "      <td>married</td>\n",
       "      <td>secondary</td>\n",
       "      <td>no</td>\n",
       "      <td>1270</td>\n",
       "      <td>yes</td>\n",
       "      <td>no</td>\n",
       "      <td>unknown</td>\n",
       "      <td>5</td>\n",
       "      <td>may</td>\n",
       "      <td>1389</td>\n",
       "      <td>1</td>\n",
       "      <td>-1</td>\n",
       "      <td>0</td>\n",
       "      <td>unknown</td>\n",
       "      <td>yes</td>\n",
       "    </tr>\n",
       "  </tbody>\n",
       "</table>\n",
       "</div>"
      ],
      "text/plain": [
       "   age         job  marital  education default  balance housing loan  contact  \\\n",
       "0   59      admin.  married  secondary      no     2343     yes   no  unknown   \n",
       "1   56      admin.  married  secondary      no       45      no   no  unknown   \n",
       "2   41  technician  married  secondary      no     1270     yes   no  unknown   \n",
       "\n",
       "   day month  duration  campaign  pdays  previous poutcome deposit  \n",
       "0    5   may      1042         1     -1         0  unknown     yes  \n",
       "1    5   may      1467         1     -1         0  unknown     yes  \n",
       "2    5   may      1389         1     -1         0  unknown     yes  "
      ]
     },
     "execution_count": 118,
     "metadata": {},
     "output_type": "execute_result"
    }
   ],
   "source": [
    "dataset.head(3)"
   ]
  },
  {
   "cell_type": "code",
   "execution_count": 119,
   "metadata": {},
   "outputs": [],
   "source": [
    "yp = Regression.predict(sc.transform(ct.transform([[56, \"admin.\", \"married\", \"secondary\", \"no\", 45, \"no\", \"no\", \"unknown\", 5, \"may\", 1467, 1, -1, 0, \"unknown\"]])))"
   ]
  },
  {
   "cell_type": "code",
   "execution_count": 124,
   "metadata": {},
   "outputs": [
    {
     "name": "stdout",
     "output_type": "stream",
     "text": [
      "Makes a Deposit\n"
     ]
    }
   ],
   "source": [
    "yp > 1\n",
    "if(yp > 1):\n",
    "    print(\"Makes a Deposit\")\n",
    "else:\n",
    "    print(\"Does not deposit\")"
   ]
  }
 ],
 "metadata": {
  "kernelspec": {
   "display_name": "Python 3",
   "language": "python",
   "name": "python3"
  },
  "language_info": {
   "codemirror_mode": {
    "name": "ipython",
    "version": 3
   },
   "file_extension": ".py",
   "mimetype": "text/x-python",
   "name": "python",
   "nbconvert_exporter": "python",
   "pygments_lexer": "ipython3",
   "version": "3.8.5"
  }
 },
 "nbformat": 4,
 "nbformat_minor": 4
}
